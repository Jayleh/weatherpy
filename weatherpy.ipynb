{
 "cells": [
  {
   "cell_type": "code",
   "execution_count": 2,
   "metadata": {},
   "outputs": [],
   "source": [
    "# Dependencies\n",
    "import requests\n",
    "import json\n",
    "from citipy import citipy\n",
    "import random\n",
    "import openweathermapy.core as owm\n",
    "# from config import api_key"
   ]
  },
  {
   "cell_type": "markdown",
   "metadata": {},
   "source": [
    "1. Get random coordinate pairs, max lat is +-90, max long is +-180\n",
    "2. Append into list (coordinates)"
   ]
  },
  {
   "cell_type": "code",
   "execution_count": 38,
   "metadata": {},
   "outputs": [
    {
     "name": "stdout",
     "output_type": "stream",
     "text": [
      "[(-47, -86), (-87, -124), (-43, -96), (79, -110), (-73, 7), (-85, 103), (-33, 156), (-37, -83), (61, -106), (26, -118)]\n"
     ]
    }
   ],
   "source": [
    "# Some random coordinates\n",
    "coordinates = []\n",
    "\n",
    "# Create random coordinates and append to coordinates list\n",
    "for x in range(10):\n",
    "    coordinates.append((random.randint(-90, 91), random.randint(-180, 181)))\n",
    "\n",
    "print(coordinates)"
   ]
  },
  {
   "cell_type": "code",
   "execution_count": 39,
   "metadata": {},
   "outputs": [
    {
     "name": "stdout",
     "output_type": "stream",
     "text": [
      "['castro', 'punta arenas', 'castro', 'yellowknife', 'hermanus', 'albany', 'port macquarie', 'lebu', 'la ronge', 'guerrero negro']\n"
     ]
    }
   ],
   "source": [
    "cities = []\n",
    "for coordinate_pair in coordinates:\n",
    "    lat, lon = coordinate_pair\n",
    "    city_obj = citipy.nearest_city(lat, lon)\n",
    "    cities.append(city_obj.city_name)\n",
    "\n",
    "print(cities)"
   ]
  },
  {
   "cell_type": "code",
   "execution_count": 35,
   "metadata": {},
   "outputs": [
    {
     "name": "stdout",
     "output_type": "stream",
     "text": [
      "The country code of norman wells is 'ca'.\n",
      "The country code of guerrero negro is 'mx'.\n",
      "The country code of dunedin is 'nz'.\n",
      "The country code of lere is 'ng'.\n",
      "The country code of chokwe is 'mz'.\n",
      "The country code of tasiilaq is 'gl'.\n",
      "The country code of energetik is 'ru'.\n",
      "The country code of sinnamary is 'gf'.\n",
      "The country code of punta arenas is 'cl'.\n",
      "The country code of mataura is 'pf'.\n"
     ]
    }
   ],
   "source": [
    "for city in cities:\n",
    "    country_code = city.country_code\n",
    "    name = city.city_name\n",
    "    print(f\"The country code of {name} is '{country_code}'.\")"
   ]
  },
  {
   "cell_type": "code",
   "execution_count": 4,
   "metadata": {
    "collapsed": true
   },
   "outputs": [],
   "source": [
    "# Create settings dictionary with information we're interested in\n",
    "# settings = {\"units\": \"metric\", \"appid\": api_key}"
   ]
  },
  {
   "cell_type": "code",
   "execution_count": 5,
   "metadata": {},
   "outputs": [
    {
     "name": "stdout",
     "output_type": "stream",
     "text": [
      "Current weather object for Paris: {'coord': {'lon': 2.35, 'lat': 48.86}, 'weather': [{'id': 800, 'main': 'Clear', 'description': 'clear sky', 'icon': '01n'}], 'base': 'stations', 'main': {'temp': 1.24, 'pressure': 991, 'humidity': 94, 'temp_min': -2, 'temp_max': 3}, 'visibility': 10000, 'wind': {'speed': 1.5, 'deg': 50}, 'clouds': {'all': 0}, 'dt': 1520056800, 'sys': {'type': 1, 'id': 5610, 'message': 0.0044, 'country': 'FR', 'sunrise': 1520058503, 'sunset': 1520098642}, 'id': 2988507, 'name': 'Paris', 'cod': 200}.\n"
     ]
    }
   ],
   "source": [
    "# Get current weather\n",
    "# current_weather_paris = owm.get_current(\"Paris\", **settings)\n",
    "# print(f\"Current weather object for Paris: {current_weather_paris}.\")"
   ]
  },
  {
   "cell_type": "code",
   "execution_count": 6,
   "metadata": {},
   "outputs": [
    {
     "name": "stdout",
     "output_type": "stream",
     "text": [
      "The current weather summary for Paris is: ('Paris', 1.24).\n"
     ]
    }
   ],
   "source": [
    "# summary = [\"name\", \"main.temp\"]\n",
    "\n",
    "# data = current_weather_paris(*summary)\n",
    "# print(f\"The current weather summary for Paris is: {data}.\")"
   ]
  }
 ],
 "metadata": {
  "kernelspec": {
   "display_name": "Python [conda env:PythonData]",
   "language": "python",
   "name": "conda-env-PythonData-py"
  },
  "language_info": {
   "codemirror_mode": {
    "name": "ipython",
    "version": 3
   },
   "file_extension": ".py",
   "mimetype": "text/x-python",
   "name": "python",
   "nbconvert_exporter": "python",
   "pygments_lexer": "ipython3",
   "version": "3.6.3"
  }
 },
 "nbformat": 4,
 "nbformat_minor": 2
}
